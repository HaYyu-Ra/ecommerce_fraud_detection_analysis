{
 "cells": [
  {
   "cell_type": "code",
   "execution_count": 1,
   "metadata": {},
   "outputs": [],
   "source": [
    "import pandas as pd\n",
    "import mlflow\n",
    "import mlflow.sklearn\n",
    "import mlflow.tensorflow\n",
    "from sklearn.model_selection import train_test_split\n",
    "from sklearn.linear_model import LogisticRegression\n",
    "from sklearn.tree import DecisionTreeClassifier\n",
    "from sklearn.ensemble import RandomForestClassifier, GradientBoostingClassifier\n",
    "from sklearn.neural_network import MLPClassifier\n",
    "from sklearn.metrics import classification_report, accuracy_score\n",
    "from tensorflow import keras\n",
    "from tensorflow.keras import layers\n",
    "import numpy as np\n",
    "from typing import Tuple, Dict, Any\n"
   ]
  },
  {
   "cell_type": "code",
   "execution_count": 2,
   "metadata": {},
   "outputs": [],
   "source": [
    "# Load your data\n",
    "def load_data(file_paths: Tuple[str, str]) -> Tuple[pd.DataFrame, pd.DataFrame]:\n",
    "    fraud_data = pd.read_csv(file_paths[0])\n",
    "    credit_data = pd.read_csv(file_paths[1])\n",
    "    return fraud_data, credit_data\n"
   ]
  },
  {
   "cell_type": "code",
   "execution_count": 3,
   "metadata": {},
   "outputs": [],
   "source": [
    "# Preprocess data by converting non-numeric types and handling missing values\n",
    "def preprocess_data(data: pd.DataFrame) -> pd.DataFrame:\n",
    "    # Convert date columns to numeric (timestamp)\n",
    "    for col in data.select_dtypes(include=['object']):\n",
    "        try:\n",
    "            data[col] = pd.to_datetime(data[col]).astype(int) // 10**9  # Convert to UNIX timestamp\n",
    "        except (ValueError, TypeError):\n",
    "            # If it can't be converted, you may decide to drop it or encode it\n",
    "            data.drop(columns=[col], inplace=True)\n",
    "\n",
    "    # Handle missing values (if any)\n",
    "    data.fillna(0, inplace=True)  # Or use other imputation methods\n",
    "\n",
    "    return data\n"
   ]
  },
  {
   "cell_type": "code",
   "execution_count": 4,
   "metadata": {},
   "outputs": [],
   "source": [
    "# Prepare data for modeling\n",
    "def prepare_data(data: pd.DataFrame, target_column: str) -> Tuple[pd.DataFrame, pd.DataFrame, pd.Series, pd.Series]:\n",
    "    data = preprocess_data(data)  # Preprocess the data here\n",
    "    X = data.drop(columns=[target_column])\n",
    "    y = data[target_column]\n",
    "    return train_test_split(X, y, test_size=0.2, random_state=42)\n"
   ]
  },
  {
   "cell_type": "code",
   "execution_count": 5,
   "metadata": {},
   "outputs": [],
   "source": [
    "# Evaluate a model\n",
    "def evaluate_model(model: Any, X_train: pd.DataFrame, X_test: pd.DataFrame, y_train: pd.Series, y_test: pd.Series, model_name: str) -> None:\n",
    "    with mlflow.start_run():\n",
    "        # Train the model\n",
    "        model.fit(X_train, y_train)\n",
    "        predictions = model.predict(X_test)\n",
    "\n",
    "        # For models that may output probabilities, binarize the output\n",
    "        if predictions.ndim == 2 and predictions.shape[1] == 1:  # If it's a 2D array with one column\n",
    "            predictions = (predictions > 0.5).astype(int)  # Convert probabilities to binary (0 or 1)\n",
    "        elif predictions.ndim == 1 and not np.issubdtype(predictions.dtype, np.integer):\n",
    "            predictions = (predictions > 0.5).astype(int)  # Same conversion for 1D continuous outputs\n",
    "        \n",
    "        # Evaluate the model\n",
    "        accuracy = accuracy_score(y_test, predictions)\n",
    "        report = classification_report(y_test, predictions)\n",
    "\n",
    "        # Log parameters, metrics, and model\n",
    "        mlflow.log_param(\"model_name\", model_name)\n",
    "        mlflow.log_param(\"num_features\", X_train.shape[1])  # Number of features\n",
    "        mlflow.log_metric(\"accuracy\", accuracy)\n",
    "        mlflow.log_text(report, \"classification_report.txt\")\n",
    "        \n",
    "        # Log models depending on type\n",
    "        if isinstance(model, keras.Model):\n",
    "            mlflow.tensorflow.log_model(model, model_name)\n",
    "        else:\n",
    "            mlflow.sklearn.log_model(model, model_name)\n",
    "\n",
    "        print(f\"Model: {model_name}\")\n",
    "        print(f\"Accuracy: {accuracy}\")\n",
    "        print(report)\n"
   ]
  },
  {
   "cell_type": "code",
   "execution_count": 6,
   "metadata": {},
   "outputs": [],
   "source": [
    "# Build CNN model\n",
    "def build_cnn_model(input_shape: Tuple[int, int, int]) -> keras.Model:\n",
    "    model = keras.Sequential([\n",
    "        layers.Conv2D(32, (3, 3), activation='relu', input_shape=input_shape),\n",
    "        layers.MaxPooling2D(pool_size=(2, 2)),\n",
    "        layers.Flatten(),\n",
    "        layers.Dense(128, activation='relu'),\n",
    "        layers.Dense(1, activation='sigmoid')\n",
    "    ])\n",
    "    model.compile(optimizer='adam', loss='binary_crossentropy', metrics=['accuracy'])\n",
    "    return model\n",
    "\n",
    "# Build RNN model\n",
    "def build_rnn_model(input_shape: Tuple[int, int]) -> keras.Model:\n",
    "    model = keras.Sequential([\n",
    "        layers.SimpleRNN(50, input_shape=input_shape, return_sequences=True),\n",
    "        layers.SimpleRNN(50),\n",
    "        layers.Dense(1, activation='sigmoid')\n",
    "    ])\n",
    "    model.compile(optimizer='adam', loss='binary_crossentropy', metrics=['accuracy'])\n",
    "    return model\n",
    "\n",
    "# Build LSTM model\n",
    "def build_lstm_model(input_shape: Tuple[int, int]) -> keras.Model:\n",
    "    model = keras.Sequential([\n",
    "        layers.LSTM(50, input_shape=input_shape, return_sequences=True),\n",
    "        layers.LSTM(50),\n",
    "        layers.Dense(1, activation='sigmoid')\n",
    "    ])\n",
    "    model.compile(optimizer='adam', loss='binary_crossentropy', metrics=['accuracy'])\n",
    "    return model\n"
   ]
  },
  {
   "cell_type": "code",
   "execution_count": 7,
   "metadata": {},
   "outputs": [],
   "source": [
    "# Automatically adjust reshaping\n",
    "def auto_reshape(X: pd.DataFrame, model_type: str) -> Tuple:\n",
    "    num_samples, num_features = X.shape\n",
    "    \n",
    "    if model_type == 'cnn':\n",
    "        side_length = int(num_features ** 0.5)\n",
    "        if side_length ** 2 != num_features:\n",
    "            raise ValueError(f\"Cannot reshape array of size {X.size} into a square for CNN.\")\n",
    "        return X.values.reshape(num_samples, side_length, side_length, 1)\n",
    "    \n",
    "    elif model_type in ['rnn', 'lstm']:\n",
    "        return X.values.reshape(num_samples, num_features, 1)\n",
    "    \n",
    "    else:\n",
    "        raise ValueError(f\"Unsupported model type for reshaping: {model_type}\")\n"
   ]
  },
  {
   "cell_type": "code",
   "execution_count": 8,
   "metadata": {},
   "outputs": [],
   "source": [
    "# Evaluate models\n",
    "def evaluate_models(X_train: pd.DataFrame, X_test: pd.DataFrame, y_train: pd.Series, y_test: pd.Series) -> None:\n",
    "    models: Dict[str, Any] = {\n",
    "        \"Logistic Regression\": LogisticRegression(max_iter=1000),\n",
    "        \"Decision Tree\": DecisionTreeClassifier(),\n",
    "        \"Random Forest\": RandomForestClassifier(),\n",
    "        \"Gradient Boosting\": GradientBoostingClassifier(),\n",
    "        \"MLP Classifier\": MLPClassifier(max_iter=1000),\n",
    "    }\n",
    "\n",
    "    # Evaluate classical machine learning models\n",
    "    for model_name, model in models.items():\n",
    "        evaluate_model(model, X_train, X_test, y_train, y_test, model_name)\n",
    "\n",
    "    # Reshape data for CNN, RNN, LSTM\n",
    "    try:\n",
    "        X_train_cnn = auto_reshape(X_train, 'cnn')\n",
    "        X_test_cnn = auto_reshape(X_test, 'cnn')\n",
    "        evaluate_model(build_cnn_model(X_train_cnn.shape[1:]), X_train_cnn, X_test_cnn, y_train, y_test, \"CNN Model\")\n",
    "    except ValueError as e:\n",
    "        print(f\"Skipping CNN evaluation: {e}\")\n",
    "\n",
    "    # Reshape for RNN and LSTM\n",
    "    try:\n",
    "        X_train_rnn = auto_reshape(X_train, 'rnn')\n",
    "        X_test_rnn = auto_reshape(X_test, 'rnn')\n",
    "        \n",
    "        evaluate_model(build_rnn_model(X_train_rnn.shape[1:]), X_train_rnn, X_test_rnn, y_train, y_test, \"RNN Model\")\n",
    "        evaluate_model(build_lstm_model(X_train_rnn.shape[1:]), X_train_rnn, X_test_rnn, y_train, y_test, \"LSTM Model\")\n",
    "    except ValueError as e:\n",
    "        print(f\"Skipping RNN/LSTM evaluation: {e}\")\n"
   ]
  },
  {
   "cell_type": "code",
   "execution_count": 9,
   "metadata": {},
   "outputs": [
    {
     "name": "stdout",
     "output_type": "stream",
     "text": [
      "Experiment 'fraud_detection_experiment' already exists. Using the existing experiment.\n",
      "Evaluating models for Credit Card Data:\n"
     ]
    },
    {
     "name": "stderr",
     "output_type": "stream",
     "text": [
      "c:\\Users\\hayyu.ragea\\AppData\\Local\\Programs\\Python\\Python312\\ecommerce_fraud_detection_system\\new_venv\\Lib\\site-packages\\sklearn\\linear_model\\_logistic.py:469: ConvergenceWarning: lbfgs failed to converge (status=1):\n",
      "STOP: TOTAL NO. of ITERATIONS REACHED LIMIT.\n",
      "\n",
      "Increase the number of iterations (max_iter) or scale the data as shown in:\n",
      "    https://scikit-learn.org/stable/modules/preprocessing.html\n",
      "Please also refer to the documentation for alternative solver options:\n",
      "    https://scikit-learn.org/stable/modules/linear_model.html#logistic-regression\n",
      "  n_iter_i = _check_optimize_result(\n",
      "2024/10/24 00:12:10 WARNING mlflow.models.model: Model logged without a signature and input example. Please set `input_example` parameter when logging the model to auto infer the model signature.\n"
     ]
    },
    {
     "name": "stdout",
     "output_type": "stream",
     "text": [
      "Model: Logistic Regression\n",
      "Accuracy: 0.9991188806259472\n",
      "              precision    recall  f1-score   support\n",
      "\n",
      "           0       1.00      1.00      1.00     56656\n",
      "           1       0.84      0.54      0.66        90\n",
      "\n",
      "    accuracy                           1.00     56746\n",
      "   macro avg       0.92      0.77      0.83     56746\n",
      "weighted avg       1.00      1.00      1.00     56746\n",
      "\n"
     ]
    },
    {
     "name": "stderr",
     "output_type": "stream",
     "text": [
      "2024/10/24 00:12:55 WARNING mlflow.models.model: Model logged without a signature and input example. Please set `input_example` parameter when logging the model to auto infer the model signature.\n"
     ]
    },
    {
     "name": "stdout",
     "output_type": "stream",
     "text": [
      "Model: Decision Tree\n",
      "Accuracy: 0.9990131463010609\n",
      "              precision    recall  f1-score   support\n",
      "\n",
      "           0       1.00      1.00      1.00     56656\n",
      "           1       0.68      0.72      0.70        90\n",
      "\n",
      "    accuracy                           1.00     56746\n",
      "   macro avg       0.84      0.86      0.85     56746\n",
      "weighted avg       1.00      1.00      1.00     56746\n",
      "\n"
     ]
    },
    {
     "name": "stderr",
     "output_type": "stream",
     "text": [
      "2024/10/24 00:18:17 WARNING mlflow.models.model: Model logged without a signature and input example. Please set `input_example` parameter when logging the model to auto infer the model signature.\n"
     ]
    },
    {
     "name": "stdout",
     "output_type": "stream",
     "text": [
      "Model: Random Forest\n",
      "Accuracy: 0.9995594403129736\n",
      "              precision    recall  f1-score   support\n",
      "\n",
      "           0       1.00      1.00      1.00     56656\n",
      "           1       0.99      0.73      0.84        90\n",
      "\n",
      "    accuracy                           1.00     56746\n",
      "   macro avg       0.99      0.87      0.92     56746\n",
      "weighted avg       1.00      1.00      1.00     56746\n",
      "\n"
     ]
    },
    {
     "name": "stderr",
     "output_type": "stream",
     "text": [
      "2024/10/24 00:28:11 WARNING mlflow.models.model: Model logged without a signature and input example. Please set `input_example` parameter when logging the model to auto infer the model signature.\n"
     ]
    },
    {
     "name": "stdout",
     "output_type": "stream",
     "text": [
      "Model: Gradient Boosting\n",
      "Accuracy: 0.9992951045007578\n",
      "              precision    recall  f1-score   support\n",
      "\n",
      "           0       1.00      1.00      1.00     56656\n",
      "           1       0.89      0.63      0.74        90\n",
      "\n",
      "    accuracy                           1.00     56746\n",
      "   macro avg       0.95      0.82      0.87     56746\n",
      "weighted avg       1.00      1.00      1.00     56746\n",
      "\n"
     ]
    },
    {
     "name": "stderr",
     "output_type": "stream",
     "text": [
      "2024/10/24 00:29:33 WARNING mlflow.models.model: Model logged without a signature and input example. Please set `input_example` parameter when logging the model to auto infer the model signature.\n"
     ]
    },
    {
     "name": "stdout",
     "output_type": "stream",
     "text": [
      "Model: MLP Classifier\n",
      "Accuracy: 0.9982377612518945\n",
      "              precision    recall  f1-score   support\n",
      "\n",
      "           0       1.00      1.00      1.00     56656\n",
      "           1       0.47      0.78      0.58        90\n",
      "\n",
      "    accuracy                           1.00     56746\n",
      "   macro avg       0.73      0.89      0.79     56746\n",
      "weighted avg       1.00      1.00      1.00     56746\n",
      "\n",
      "Skipping CNN evaluation: Cannot reshape array of size 6809400 into a square for CNN.\n"
     ]
    },
    {
     "name": "stderr",
     "output_type": "stream",
     "text": [
      "c:\\Users\\hayyu.ragea\\AppData\\Local\\Programs\\Python\\Python312\\ecommerce_fraud_detection_system\\new_venv\\Lib\\site-packages\\keras\\src\\layers\\rnn\\rnn.py:204: UserWarning: Do not pass an `input_shape`/`input_dim` argument to a layer. When using Sequential models, prefer using an `Input(shape)` object as the first layer in the model instead.\n",
      "  super().__init__(**kwargs)\n"
     ]
    },
    {
     "name": "stdout",
     "output_type": "stream",
     "text": [
      "\u001b[1m7094/7094\u001b[0m \u001b[32m━━━━━━━━━━━━━━━━━━━━\u001b[0m\u001b[37m\u001b[0m \u001b[1m92s\u001b[0m 12ms/step - accuracy: 0.9985 - loss: 0.0088\n",
      "\u001b[1m1774/1774\u001b[0m \u001b[32m━━━━━━━━━━━━━━━━━━━━\u001b[0m\u001b[37m\u001b[0m \u001b[1m8s\u001b[0m 4ms/step\n"
     ]
    },
    {
     "name": "stderr",
     "output_type": "stream",
     "text": [
      "2024/10/24 00:31:16 WARNING mlflow.tensorflow: You are saving a TensorFlow Core model or Keras model without a signature. Inference with mlflow.pyfunc.spark_udf() will not work unless the model's pyfunc representation accepts pandas DataFrames as inference inputs.\n",
      "2024/10/24 00:31:31 WARNING mlflow.models.model: Model logged without a signature and input example. Please set `input_example` parameter when logging the model to auto infer the model signature.\n",
      "c:\\Users\\hayyu.ragea\\AppData\\Local\\Programs\\Python\\Python312\\ecommerce_fraud_detection_system\\new_venv\\Lib\\site-packages\\keras\\src\\layers\\rnn\\rnn.py:204: UserWarning: Do not pass an `input_shape`/`input_dim` argument to a layer. When using Sequential models, prefer using an `Input(shape)` object as the first layer in the model instead.\n",
      "  super().__init__(**kwargs)\n"
     ]
    },
    {
     "name": "stdout",
     "output_type": "stream",
     "text": [
      "Model: RNN Model\n",
      "Accuracy: 0.9985725866140345\n",
      "              precision    recall  f1-score   support\n",
      "\n",
      "           0       1.00      1.00      1.00     56656\n",
      "           1       0.91      0.11      0.20        90\n",
      "\n",
      "    accuracy                           1.00     56746\n",
      "   macro avg       0.95      0.56      0.60     56746\n",
      "weighted avg       1.00      1.00      1.00     56746\n",
      "\n",
      "\u001b[1m7094/7094\u001b[0m \u001b[32m━━━━━━━━━━━━━━━━━━━━\u001b[0m\u001b[37m\u001b[0m \u001b[1m184s\u001b[0m 25ms/step - accuracy: 0.9989 - loss: 0.0138\n",
      "\u001b[1m1774/1774\u001b[0m \u001b[32m━━━━━━━━━━━━━━━━━━━━\u001b[0m\u001b[37m\u001b[0m \u001b[1m13s\u001b[0m 7ms/step\n"
     ]
    },
    {
     "name": "stderr",
     "output_type": "stream",
     "text": [
      "2024/10/24 00:34:50 WARNING mlflow.tensorflow: You are saving a TensorFlow Core model or Keras model without a signature. Inference with mlflow.pyfunc.spark_udf() will not work unless the model's pyfunc representation accepts pandas DataFrames as inference inputs.\n",
      "2024/10/24 00:35:02 WARNING mlflow.models.model: Model logged without a signature and input example. Please set `input_example` parameter when logging the model to auto infer the model signature.\n"
     ]
    },
    {
     "name": "stdout",
     "output_type": "stream",
     "text": [
      "Model: LSTM Model\n",
      "Accuracy: 0.9992422373383146\n",
      "              precision    recall  f1-score   support\n",
      "\n",
      "           0       1.00      1.00      1.00     56656\n",
      "           1       0.76      0.77      0.76        90\n",
      "\n",
      "    accuracy                           1.00     56746\n",
      "   macro avg       0.88      0.88      0.88     56746\n",
      "weighted avg       1.00      1.00      1.00     56746\n",
      "\n"
     ]
    },
    {
     "name": "stderr",
     "output_type": "stream",
     "text": [
      "C:\\Users\\hayyu.ragea\\AppData\\Local\\Temp\\ipykernel_44876\\2154015866.py:6: UserWarning: Could not infer format, so each element will be parsed individually, falling back to `dateutil`. To ensure parsing is consistent and as-expected, please specify a format.\n",
      "  data[col] = pd.to_datetime(data[col]).astype(int) // 10**9  # Convert to UNIX timestamp\n",
      "C:\\Users\\hayyu.ragea\\AppData\\Local\\Temp\\ipykernel_44876\\2154015866.py:6: UserWarning: Could not infer format, so each element will be parsed individually, falling back to `dateutil`. To ensure parsing is consistent and as-expected, please specify a format.\n",
      "  data[col] = pd.to_datetime(data[col]).astype(int) // 10**9  # Convert to UNIX timestamp\n",
      "C:\\Users\\hayyu.ragea\\AppData\\Local\\Temp\\ipykernel_44876\\2154015866.py:6: UserWarning: Could not infer format, so each element will be parsed individually, falling back to `dateutil`. To ensure parsing is consistent and as-expected, please specify a format.\n",
      "  data[col] = pd.to_datetime(data[col]).astype(int) // 10**9  # Convert to UNIX timestamp\n",
      "C:\\Users\\hayyu.ragea\\AppData\\Local\\Temp\\ipykernel_44876\\2154015866.py:6: UserWarning: Could not infer format, so each element will be parsed individually, falling back to `dateutil`. To ensure parsing is consistent and as-expected, please specify a format.\n",
      "  data[col] = pd.to_datetime(data[col]).astype(int) // 10**9  # Convert to UNIX timestamp\n"
     ]
    },
    {
     "name": "stdout",
     "output_type": "stream",
     "text": [
      "Evaluating models for Fraud Data:\n"
     ]
    },
    {
     "name": "stderr",
     "output_type": "stream",
     "text": [
      "c:\\Users\\hayyu.ragea\\AppData\\Local\\Programs\\Python\\Python312\\ecommerce_fraud_detection_system\\new_venv\\Lib\\site-packages\\sklearn\\metrics\\_classification.py:1531: UndefinedMetricWarning: Precision is ill-defined and being set to 0.0 in labels with no predicted samples. Use `zero_division` parameter to control this behavior.\n",
      "  _warn_prf(average, modifier, f\"{metric.capitalize()} is\", len(result))\n",
      "c:\\Users\\hayyu.ragea\\AppData\\Local\\Programs\\Python\\Python312\\ecommerce_fraud_detection_system\\new_venv\\Lib\\site-packages\\sklearn\\metrics\\_classification.py:1531: UndefinedMetricWarning: Precision is ill-defined and being set to 0.0 in labels with no predicted samples. Use `zero_division` parameter to control this behavior.\n",
      "  _warn_prf(average, modifier, f\"{metric.capitalize()} is\", len(result))\n",
      "c:\\Users\\hayyu.ragea\\AppData\\Local\\Programs\\Python\\Python312\\ecommerce_fraud_detection_system\\new_venv\\Lib\\site-packages\\sklearn\\metrics\\_classification.py:1531: UndefinedMetricWarning: Precision is ill-defined and being set to 0.0 in labels with no predicted samples. Use `zero_division` parameter to control this behavior.\n",
      "  _warn_prf(average, modifier, f\"{metric.capitalize()} is\", len(result))\n",
      "2024/10/24 00:35:09 WARNING mlflow.models.model: Model logged without a signature and input example. Please set `input_example` parameter when logging the model to auto infer the model signature.\n"
     ]
    },
    {
     "name": "stdout",
     "output_type": "stream",
     "text": [
      "Model: Logistic Regression\n",
      "Accuracy: 0.9057009562253913\n",
      "              precision    recall  f1-score   support\n",
      "\n",
      "           0       0.91      1.00      0.95     27373\n",
      "           1       0.00      0.00      0.00      2850\n",
      "\n",
      "    accuracy                           0.91     30223\n",
      "   macro avg       0.45      0.50      0.48     30223\n",
      "weighted avg       0.82      0.91      0.86     30223\n",
      "\n"
     ]
    },
    {
     "name": "stderr",
     "output_type": "stream",
     "text": [
      "2024/10/24 00:35:16 WARNING mlflow.models.model: Model logged without a signature and input example. Please set `input_example` parameter when logging the model to auto infer the model signature.\n"
     ]
    },
    {
     "name": "stdout",
     "output_type": "stream",
     "text": [
      "Model: Decision Tree\n",
      "Accuracy: 0.906329616517222\n",
      "              precision    recall  f1-score   support\n",
      "\n",
      "           0       0.95      0.94      0.95     27373\n",
      "           1       0.50      0.56      0.53      2850\n",
      "\n",
      "    accuracy                           0.91     30223\n",
      "   macro avg       0.73      0.75      0.74     30223\n",
      "weighted avg       0.91      0.91      0.91     30223\n",
      "\n"
     ]
    },
    {
     "name": "stderr",
     "output_type": "stream",
     "text": [
      "2024/10/24 00:36:26 WARNING mlflow.models.model: Model logged without a signature and input example. Please set `input_example` parameter when logging the model to auto infer the model signature.\n"
     ]
    },
    {
     "name": "stdout",
     "output_type": "stream",
     "text": [
      "Model: Random Forest\n",
      "Accuracy: 0.9564239155609966\n",
      "              precision    recall  f1-score   support\n",
      "\n",
      "           0       0.95      1.00      0.98     27373\n",
      "           1       1.00      0.54      0.70      2850\n",
      "\n",
      "    accuracy                           0.96     30223\n",
      "   macro avg       0.98      0.77      0.84     30223\n",
      "weighted avg       0.96      0.96      0.95     30223\n",
      "\n"
     ]
    },
    {
     "name": "stderr",
     "output_type": "stream",
     "text": [
      "2024/10/24 00:36:58 WARNING mlflow.models.model: Model logged without a signature and input example. Please set `input_example` parameter when logging the model to auto infer the model signature.\n"
     ]
    },
    {
     "name": "stdout",
     "output_type": "stream",
     "text": [
      "Model: Gradient Boosting\n",
      "Accuracy: 0.956390828177216\n",
      "              precision    recall  f1-score   support\n",
      "\n",
      "           0       0.95      1.00      0.98     27373\n",
      "           1       1.00      0.54      0.70      2850\n",
      "\n",
      "    accuracy                           0.96     30223\n",
      "   macro avg       0.98      0.77      0.84     30223\n",
      "weighted avg       0.96      0.96      0.95     30223\n",
      "\n"
     ]
    },
    {
     "name": "stderr",
     "output_type": "stream",
     "text": [
      "2024/10/24 00:37:15 WARNING mlflow.models.model: Model logged without a signature and input example. Please set `input_example` parameter when logging the model to auto infer the model signature.\n",
      "c:\\Users\\hayyu.ragea\\AppData\\Local\\Programs\\Python\\Python312\\ecommerce_fraud_detection_system\\new_venv\\Lib\\site-packages\\keras\\src\\layers\\rnn\\rnn.py:204: UserWarning: Do not pass an `input_shape`/`input_dim` argument to a layer. When using Sequential models, prefer using an `Input(shape)` object as the first layer in the model instead.\n",
      "  super().__init__(**kwargs)\n"
     ]
    },
    {
     "name": "stdout",
     "output_type": "stream",
     "text": [
      "Model: MLP Classifier\n",
      "Accuracy: 0.617939979485822\n",
      "              precision    recall  f1-score   support\n",
      "\n",
      "           0       0.95      0.61      0.74     27373\n",
      "           1       0.16      0.71      0.26      2850\n",
      "\n",
      "    accuracy                           0.62     30223\n",
      "   macro avg       0.56      0.66      0.50     30223\n",
      "weighted avg       0.88      0.62      0.70     30223\n",
      "\n",
      "Skipping CNN evaluation: Cannot reshape array of size 604445 into a square for CNN.\n",
      "\u001b[1m3778/3778\u001b[0m \u001b[32m━━━━━━━━━━━━━━━━━━━━\u001b[0m\u001b[37m\u001b[0m \u001b[1m24s\u001b[0m 5ms/step - accuracy: 0.9567 - loss: 0.1770\n",
      "\u001b[1m945/945\u001b[0m \u001b[32m━━━━━━━━━━━━━━━━━━━━\u001b[0m\u001b[37m\u001b[0m \u001b[1m4s\u001b[0m 4ms/step\n"
     ]
    },
    {
     "name": "stderr",
     "output_type": "stream",
     "text": [
      "2024/10/24 00:37:46 WARNING mlflow.tensorflow: You are saving a TensorFlow Core model or Keras model without a signature. Inference with mlflow.pyfunc.spark_udf() will not work unless the model's pyfunc representation accepts pandas DataFrames as inference inputs.\n",
      "2024/10/24 00:38:10 WARNING mlflow.models.model: Model logged without a signature and input example. Please set `input_example` parameter when logging the model to auto infer the model signature.\n",
      "c:\\Users\\hayyu.ragea\\AppData\\Local\\Programs\\Python\\Python312\\ecommerce_fraud_detection_system\\new_venv\\Lib\\site-packages\\keras\\src\\layers\\rnn\\rnn.py:204: UserWarning: Do not pass an `input_shape`/`input_dim` argument to a layer. When using Sequential models, prefer using an `Input(shape)` object as the first layer in the model instead.\n",
      "  super().__init__(**kwargs)\n"
     ]
    },
    {
     "name": "stdout",
     "output_type": "stream",
     "text": [
      "Model: RNN Model\n",
      "Accuracy: 0.9564239155609966\n",
      "              precision    recall  f1-score   support\n",
      "\n",
      "           0       0.95      1.00      0.98     27373\n",
      "           1       1.00      0.54      0.70      2850\n",
      "\n",
      "    accuracy                           0.96     30223\n",
      "   macro avg       0.98      0.77      0.84     30223\n",
      "weighted avg       0.96      0.96      0.95     30223\n",
      "\n",
      "\u001b[1m3778/3778\u001b[0m \u001b[32m━━━━━━━━━━━━━━━━━━━━\u001b[0m\u001b[37m\u001b[0m \u001b[1m33s\u001b[0m 6ms/step - accuracy: 0.9496 - loss: 0.1942\n",
      "\u001b[1m945/945\u001b[0m \u001b[32m━━━━━━━━━━━━━━━━━━━━\u001b[0m\u001b[37m\u001b[0m \u001b[1m4s\u001b[0m 3ms/step\n"
     ]
    },
    {
     "name": "stderr",
     "output_type": "stream",
     "text": [
      "2024/10/24 00:38:48 WARNING mlflow.tensorflow: You are saving a TensorFlow Core model or Keras model without a signature. Inference with mlflow.pyfunc.spark_udf() will not work unless the model's pyfunc representation accepts pandas DataFrames as inference inputs.\n",
      "2024/10/24 00:39:02 WARNING mlflow.models.model: Model logged without a signature and input example. Please set `input_example` parameter when logging the model to auto infer the model signature.\n"
     ]
    },
    {
     "name": "stdout",
     "output_type": "stream",
     "text": [
      "Model: LSTM Model\n",
      "Accuracy: 0.9564239155609966\n",
      "              precision    recall  f1-score   support\n",
      "\n",
      "           0       0.95      1.00      0.98     27373\n",
      "           1       1.00      0.54      0.70      2850\n",
      "\n",
      "    accuracy                           0.96     30223\n",
      "   macro avg       0.98      0.77      0.84     30223\n",
      "weighted avg       0.96      0.96      0.95     30223\n",
      "\n"
     ]
    }
   ],
   "source": [
    "# Set experiment name and create it if it doesn't exist\n",
    "experiment_name = \"fraud_detection_experiment\"\n",
    "\n",
    "# Set the tracking URI for MLflow\n",
    "mlflow.set_tracking_uri(\"file:./mlruns\")  # Ensure this path is writable\n",
    "\n",
    "# Create the experiment if it does not exist\n",
    "try:\n",
    "    mlflow.create_experiment(experiment_name)\n",
    "except mlflow.exceptions.MlflowException as e:\n",
    "    if \"already exists\" in str(e):\n",
    "        print(f\"Experiment '{experiment_name}' already exists. Using the existing experiment.\")\n",
    "\n",
    "# Set the current experiment\n",
    "mlflow.set_experiment(experiment_name)\n",
    "\n",
    "# Load data\n",
    "file_paths = (\n",
    "    r'C:\\Users\\hayyu.ragea\\AppData\\Local\\Programs\\Python\\Python312\\ecommerce_fraud_detection_system\\Data\\processed\\fraud_cleaned.csv',\n",
    "    r'C:\\Users\\hayyu.ragea\\AppData\\Local\\Programs\\Python\\Python312\\ecommerce_fraud_detection_system\\Data\\processed\\creditcard_cleaned.csv'\n",
    ")\n",
    "fraud_data, credit_data = load_data(file_paths)\n",
    "\n",
    "# Prepare and evaluate models for credit card data\n",
    "X_train_cc, X_test_cc, y_train_cc, y_test_cc = prepare_data(credit_data, 'Class')\n",
    "print(\"Evaluating models for Credit Card Data:\")\n",
    "evaluate_models(X_train_cc, X_test_cc, y_train_cc, y_test_cc)\n",
    "\n",
    "# Prepare and evaluate models for fraud data\n",
    "X_train_fraud, X_test_fraud, y_train_fraud, y_test_fraud = prepare_data(fraud_data, 'class')  # Ensure 'class' is the correct target column\n",
    "print(\"Evaluating models for Fraud Data:\")\n",
    "evaluate_models(X_train_fraud, X_test_fraud, y_train_fraud, y_test_fraud)\n"
   ]
  }
 ],
 "metadata": {
  "kernelspec": {
   "display_name": "new_venv",
   "language": "python",
   "name": "python3"
  },
  "language_info": {
   "codemirror_mode": {
    "name": "ipython",
    "version": 3
   },
   "file_extension": ".py",
   "mimetype": "text/x-python",
   "name": "python",
   "nbconvert_exporter": "python",
   "pygments_lexer": "ipython3",
   "version": "3.12.5"
  }
 },
 "nbformat": 4,
 "nbformat_minor": 2
}
