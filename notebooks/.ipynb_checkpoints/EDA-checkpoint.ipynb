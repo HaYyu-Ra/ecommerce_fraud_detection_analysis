{
 "cells": [
  {
   "cell_type": "code",
   "execution_count": null,
   "metadata": {},
   "outputs": [],
   "source": [
    "# Importing required libraries\n",
    "import pandas as pd\n",
    "import numpy as np\n",
    "import seaborn as sns\n",
    "import matplotlib.pyplot as plt\n",
    "import missingno as msno\n",
    "\n",
    "# Set visualization style\n",
    "sns.set(style=\"whitegrid\")\n",
    "plt.style.use(\"ggplot\")\n",
    "\n",
    "# Data file paths\n",
    "fraud_data_path = r\"C:\\Users\\hayyu.ragea\\AppData\\Local\\Programs\\Python\\Python312\\fraud_detection_project\\data\\processed\\fraud_cleaned.csv\"\n",
    "creditcard_data_path = r\"C:\\Users\\hayyu.ragea\\AppData\\Local\\Programs\\Python\\Python312\\fraud_detection_project\\data\\processed\\creditcard_cleaned.csv\"\n",
    "ip_country_data_path = r\"C:\\Users\\hayyu.ragea\\AppData\\Local\\Programs\\Python\\Python312\\fraud_detection_project\\data\\processed\\ip_country_cleaned.csv\"\n",
    "\n",
    "# Load datasets\n",
    "fraud_data = pd.read_csv(fraud_data_path)\n",
    "creditcard_data = pd.read_csv(creditcard_data_path)\n",
    "ip_country_data = pd.read_csv(ip_country_data_path)\n",
    "\n",
    "# Display the first few rows of the fraud dataset\n",
    "fraud_data.head()\n"
   ]
  },
  {
   "cell_type": "code",
   "execution_count": null,
   "metadata": {},
   "outputs": [],
   "source": [
    "# Fraud Data\n",
    "print(\"Fraud Data Overview:\")\n",
    "print(fraud_data.info())\n",
    "print(fraud_data.describe())\n",
    "\n",
    "# Credit Card Data\n",
    "print(\"\\nCredit Card Data Overview:\")\n",
    "print(creditcard_data.info())\n",
    "print(creditcard_data.describe())\n"
   ]
  },
  {
   "cell_type": "code",
   "execution_count": null,
   "metadata": {},
   "outputs": [],
   "source": [
    "# Univariate Analysis - Fraud Data\n",
    "\n",
    "# Plot distribution of 'purchase_value'\n",
    "plt.figure(figsize=(10, 6))\n",
    "sns.histplot(fraud_data['purchase_value'], kde=True, color='blue')\n",
    "plt.title('Distribution of Purchase Value')\n",
    "plt.show()\n",
    "\n",
    "# Countplot of 'source'\n",
    "plt.figure(figsize=(10, 6))\n",
    "sns.countplot(data=fraud_data, x='source', palette='Set2')\n",
    "plt.title('Source of Users')\n",
    "plt.show()\n",
    "\n",
    "# Countplot of 'browser'\n",
    "plt.figure(figsize=(10, 6))\n",
    "sns.countplot(data=fraud_data, x='browser', palette='Set3')\n",
    "plt.title('Browser Usage in Transactions')\n",
    "plt.show()\n",
    "\n",
    "# Countplot of 'class' (fraud vs non-fraud)\n",
    "plt.figure(figsize=(10, 6))\n",
    "sns.countplot(data=fraud_data, x='class', palette='Set1')\n",
    "plt.title('Fraud vs Non-Fraud Transactions')\n",
    "plt.show()\n"
   ]
  },
  {
   "cell_type": "code",
   "execution_count": null,
   "metadata": {},
   "outputs": [],
   "source": [
    "# Univariate Analysis - Credit Card Data\n",
    "\n",
    "# Distribution of 'Amount'\n",
    "plt.figure(figsize=(10, 6))\n",
    "sns.histplot(creditcard_data['Amount'], kde=True, color='purple')\n",
    "plt.title('Distribution of Transaction Amount')\n",
    "plt.show()\n",
    "\n",
    "# Distribution of 'Class'\n",
    "plt.figure(figsize=(10, 6))\n",
    "sns.countplot(data=creditcard_data, x='Class', palette='Set1')\n",
    "plt.title('Fraud vs Non-Fraud Transactions (Credit Card Data)')\n",
    "plt.show()\n"
   ]
  },
  {
   "cell_type": "code",
   "execution_count": null,
   "metadata": {},
   "outputs": [],
   "source": [
    "# Bivariate Analysis - Fraud Data\n",
    "\n",
    "# Purchase Value vs Fraud/Non-Fraud\n",
    "plt.figure(figsize=(10, 6))\n",
    "sns.boxplot(data=fraud_data, x='class', y='purchase_value', palette='coolwarm')\n",
    "plt.title('Purchase Value vs Fraud/Non-Fraud Transactions')\n",
    "plt.show()\n",
    "\n",
    "# Source vs Fraud/Non-Fraud\n",
    "plt.figure(figsize=(10, 6))\n",
    "sns.countplot(data=fraud_data, x='source', hue='class', palette='Set2')\n",
    "plt.title('Source vs Fraud/Non-Fraud Transactions')\n",
    "plt.show()\n",
    "\n",
    "# Browser vs Fraud/Non-Fraud\n",
    "plt.figure(figsize=(10, 6))\n",
    "sns.countplot(data=fraud_data, x='browser', hue='class', palette='Set3')\n",
    "plt.title('Browser vs Fraud/Non-Fraud Transactions')\n",
    "plt.show()\n"
   ]
  },
  {
   "cell_type": "code",
   "execution_count": null,
   "metadata": {},
   "outputs": [],
   "source": [
    "# Bivariate Analysis - Credit Card Data\n",
    "\n",
    "# Correlation matrix\n",
    "plt.figure(figsize=(12, 8))\n",
    "corr_matrix = creditcard_data.corr()\n",
    "sns.heatmap(corr_matrix, annot=True, cmap='coolwarm', fmt=\".2f\")\n",
    "plt.title('Correlation Matrix (Credit Card Data)')\n",
    "plt.show()\n",
    "\n",
    "# Amount vs Fraud/Non-Fraud\n",
    "plt.figure(figsize=(10, 6))\n",
    "sns.boxplot(data=creditcard_data, x='Class', y='Amount', palette='coolwarm')\n",
    "plt.title('Transaction Amount vs Fraud/Non-Fraud')\n",
    "plt.show()\n"
   ]
  },
  {
   "cell_type": "code",
   "execution_count": null,
   "metadata": {},
   "outputs": [],
   "source": [
    "# Merge fraud_data with ip_country_data based on IP address ranges\n",
    "fraud_data['ip_address'] = fraud_data['ip_address'].astype(int)\n",
    "\n",
    "# Let's create a function that merges based on IP ranges\n",
    "def map_ip_to_country(ip, ip_country_df):\n",
    "    condition = (ip_country_df['lower_bound_ip_address'] <= ip) & (ip_country_df['upper_bound_ip_address'] >= ip)\n",
    "    return ip_country_df.loc[condition, 'country'].values[0] if len(ip_country_df.loc[condition, 'country'].values) > 0 else 'Unknown'\n",
    "\n",
    "fraud_data['country'] = fraud_data['ip_address'].apply(lambda x: map_ip_to_country(x, ip_country_data))\n",
    "\n",
    "# Plot Fraud Cases by Country\n",
    "plt.figure(figsize=(12, 6))\n",
    "fraud_by_country = fraud_data[fraud_data['class'] == 1]['country'].value_counts()\n",
    "sns.barplot(x=fraud_by_country.index, y=fraud_by_country.values, palette='magma')\n",
    "plt.xticks(rotation=90)\n",
    "plt.title('Fraud Cases by Country')\n",
    "plt.show()\n"
   ]
  }
 ],
 "metadata": {
  "kernelspec": {
   "display_name": "Python 3",
   "language": "python",
   "name": "python3"
  },
  "language_info": {
   "name": "python",
   "version": "undefined.undefined.undefined"
  }
 },
 "nbformat": 4,
 "nbformat_minor": 2
}
